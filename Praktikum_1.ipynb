{
  "cells": [
    {
      "cell_type": "markdown",
      "metadata": {
        "id": "view-in-github",
        "colab_type": "text"
      },
      "source": [
        "<a href=\"https://colab.research.google.com/github/dhia33rpl/Phyton_Praktikum/blob/main/Praktikum_1.ipynb\" target=\"_parent\"><img src=\"https://colab.research.google.com/assets/colab-badge.svg\" alt=\"Open In Colab\"/></a>"
      ]
    },
    {
      "cell_type": "code",
      "execution_count": null,
      "metadata": {
        "colab": {
          "base_uri": "https://localhost:8080/"
        },
        "id": "xGb6Ui151O6q",
        "outputId": "45bb3c0e-6406-4300-9318-3d0f23c2517f"
      },
      "outputs": [
        {
          "output_type": "stream",
          "name": "stdout",
          "text": [
            " Variabel dan Tipe Data \n",
            "<class 'int'>\n",
            "<class 'float'>\n",
            "<class 'str'>\n",
            "<class 'list'>\n"
          ]
        }
      ],
      "source": [
        "print(\" Variabel dan Tipe Data \")\n",
        "a = 10\n",
        "b = 3.14\n",
        "c = \"Halo\"\n",
        "d = [1, 2, 3]\n",
        "\n",
        "print(type(a))\n",
        "print(type(b))\n",
        "print(type(c))\n",
        "print(type(d))\n"
      ]
    },
    {
      "cell_type": "code",
      "source": [
        "belanja = [\"beras\", \"minyak\", \"telur\"]\n",
        "\n",
        "belanja.append(\"gula\")\n",
        "belanja.append(\"kopi\")\n",
        "\n",
        "for item in belanja:\n",
        "    print(item)"
      ],
      "metadata": {
        "colab": {
          "base_uri": "https://localhost:8080/"
        },
        "id": "FfBw_-55JSDZ",
        "outputId": "04b4a95a-346e-4f8c-dfdd-74be3b18019a"
      },
      "execution_count": null,
      "outputs": [
        {
          "output_type": "stream",
          "name": "stdout",
          "text": [
            "beras\n",
            "minyak\n",
            "telur\n",
            "gula\n",
            "kopi\n"
          ]
        }
      ]
    },
    {
      "cell_type": "code",
      "source": [
        "harga = {\n",
        "    \"beras\": 12.000,\n",
        "    \"minyak\": 17000,\n",
        "    \"telur\": 24000,\n",
        "    \"gula\": 15000,\n",
        "    \"kopi\": 20000\n",
        "}\n",
        "\n",
        "total = 0\n",
        "for item, h in harga.items():\n",
        "    print(f\"{item}: Rp{h}\")\n",
        "    total += h\n",
        "\n",
        "print(\"Total belanja:\", total)"
      ],
      "metadata": {
        "colab": {
          "base_uri": "https://localhost:8080/"
        },
        "id": "R7cjnntzLWes",
        "outputId": "f1f9c5f1-1dea-4c27-9386-dea056f25c6e"
      },
      "execution_count": null,
      "outputs": [
        {
          "output_type": "stream",
          "name": "stdout",
          "text": [
            "beras: Rp12.0\n",
            "minyak: Rp17.0\n",
            "telur: Rp24.0\n",
            "gula: Rp15.0\n",
            "kopi: Rp20.0\n",
            "Total belanja: 88.0\n"
          ]
        }
      ]
    },
    {
      "cell_type": "code",
      "source": [
        "print(\"Fungsi\")\n",
        "import math\n",
        "\n",
        "def hitung_lingkaran(r):\n",
        "    luas = math.pi * r**2\n",
        "    keliling = 2 * math.pi * r\n",
        "    return luas, keliling\n",
        "\n",
        "luas, kel = hitung_lingkaran(7)\n",
        "print(f\"Luas lingkaran: {luas:.2f}\")\n",
        "print(f\"Keliling lingkaran: {kel:.2f}\")\n"
      ],
      "metadata": {
        "colab": {
          "base_uri": "https://localhost:8080/"
        },
        "id": "S-ggNu2sbiYv",
        "outputId": "587a2218-7c8c-40f2-e2bf-aa16507ca09e"
      },
      "execution_count": null,
      "outputs": [
        {
          "output_type": "stream",
          "name": "stdout",
          "text": [
            "Fungsi\n",
            "Luas lingkaran: 153.94\n",
            "Keliling lingkaran: 43.98\n"
          ]
        }
      ]
    },
    {
      "cell_type": "code",
      "source": [
        "print(\"Percabangan Usia\")\n",
        "usia = int(input(\"Masukkan usia: \"))\n",
        "\n",
        "if 0 <= usia <= 13:\n",
        "    print(\"Anak\")\n",
        "elif 14 <= usia <= 24:\n",
        "    print(\"Remaja\")\n",
        "elif 25 <= usia <= 49:\n",
        "    print(\"Dewasa\")\n",
        "elif usia > 50:\n",
        "    print(\"Lansia\")\n",
        "else:\n",
        "    print(\"Usia tidak valid\")"
      ],
      "metadata": {
        "colab": {
          "base_uri": "https://localhost:8080/"
        },
        "id": "J_WN0eaLb_Qa",
        "outputId": "5679427a-0536-4b8c-e634-c79970da406b"
      },
      "execution_count": null,
      "outputs": [
        {
          "output_type": "stream",
          "name": "stdout",
          "text": [
            "Percabangan Usia\n",
            "Masukkan usia: 15\n",
            "Remaja\n"
          ]
        }
      ]
    }
  ],
  "metadata": {
    "colab": {
      "provenance": [],
      "authorship_tag": "ABX9TyPmxtcnGnnYZ3JGdlF5CjoI",
      "include_colab_link": true
    },
    "kernelspec": {
      "display_name": "Python 3",
      "name": "python3"
    },
    "language_info": {
      "name": "python"
    }
  },
  "nbformat": 4,
  "nbformat_minor": 0
}