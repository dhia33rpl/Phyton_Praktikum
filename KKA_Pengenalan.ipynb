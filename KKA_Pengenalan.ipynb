{
  "cells": [
    {
      "cell_type": "markdown",
      "metadata": {
        "id": "view-in-github",
        "colab_type": "text"
      },
      "source": [
        "<a href=\"https://colab.research.google.com/github/dhia33rpl/Phyton_Praktikum/blob/main/KKA_Pengenalan.ipynb\" target=\"_parent\"><img src=\"https://colab.research.google.com/assets/colab-badge.svg\" alt=\"Open In Colab\"/></a>"
      ]
    },
    {
      "cell_type": "code",
      "execution_count": null,
      "metadata": {
        "colab": {
          "base_uri": "https://localhost:8080/"
        },
        "id": "xGb6Ui151O6q",
        "outputId": "86826931-d6f7-44cb-f954-898bd5c88ec7"
      },
      "outputs": [
        {
          "data": {
            "text/plain": [
              "3"
            ]
          },
          "execution_count": 4,
          "metadata": {},
          "output_type": "execute_result"
        }
      ],
      "source": [
        "a=3\n",
        "a"
      ]
    },
    {
      "cell_type": "code",
      "execution_count": null,
      "metadata": {
        "colab": {
          "base_uri": "https://localhost:8080/"
        },
        "id": "Vui-NJPT270j",
        "outputId": "202c5777-46d8-48f0-d028-2509a79fc5b9"
      },
      "outputs": [
        {
          "data": {
            "text/plain": [
              "7"
            ]
          },
          "execution_count": 5,
          "metadata": {},
          "output_type": "execute_result"
        }
      ],
      "source": [
        "a-3\n",
        "b=4+a\n",
        "b"
      ]
    },
    {
      "cell_type": "code",
      "execution_count": null,
      "metadata": {
        "colab": {
          "base_uri": "https://localhost:8080/"
        },
        "id": "9frY4h9Q3KxO",
        "outputId": "ebedc80e-3c98-4526-fb9a-2d7ee49eb0a4"
      },
      "outputs": [
        {
          "name": "stdout",
          "output_type": "stream",
          "text": [
            "Bagas\n",
            "['Ade', 'Aira', 'Budi', 'Bagas']\n",
            "[1, 2, 3, 4, 5, 6]\n"
          ]
        }
      ],
      "source": [
        "angka=[1,2,3,4,5,6]\n",
        "type(angka)\n",
        "angka[4]\n",
        "nama=[\"Ade\", \"Aira\", \"Budi\", \"Bagas\"]\n",
        "print(nama[3])\n",
        "print(nama)\n",
        "print(angka)"
      ]
    },
    {
      "cell_type": "code",
      "execution_count": null,
      "metadata": {
        "colab": {
          "background_save": true
        },
        "id": "tmrsSMem7_s3",
        "outputId": "0aebd33f-6245-404e-a533-b0177bf022cb"
      },
      "outputs": [
        {
          "name": "stdout",
          "output_type": "stream",
          "text": [
            "Daftar Belanjaan\n"
          ]
        },
        {
          "data": {
            "text/plain": [
              "{'Mangga': 8000, 'Apel': 7000, 'Semangka': 11000, 'Jeruk': 12000}"
            ]
          },
          "execution_count": 11,
          "metadata": {},
          "output_type": "execute_result"
        }
      ],
      "source": [
        "Belanjaan={\"Mangga\" :8000, \"Apel\" :7000,\n",
        "           \"Semangka\" :11000, \"Jeruk\" :12000}\n",
        "\n",
        "print(\"Daftar Belanjaan\")\n",
        "Belanjaan\n"
      ]
    }
  ],
  "metadata": {
    "colab": {
      "provenance": [],
      "authorship_tag": "ABX9TyPLovko1QCPXyjls+yEjchH",
      "include_colab_link": true
    },
    "kernelspec": {
      "display_name": "Python 3",
      "name": "python3"
    },
    "language_info": {
      "name": "python"
    }
  },
  "nbformat": 4,
  "nbformat_minor": 0
}